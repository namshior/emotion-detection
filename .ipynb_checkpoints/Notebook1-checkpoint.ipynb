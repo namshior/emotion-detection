{
 "cells": [
  {
   "cell_type": "code",
   "execution_count": 1,
   "metadata": {},
   "outputs": [],
   "source": [
    "import warnings\n",
    "warnings.filterwarnings('ignore')"
   ]
  },
  {
   "cell_type": "code",
   "execution_count": 2,
   "metadata": {},
   "outputs": [],
   "source": [
    "import pandas as pd \n",
    "import pickle\n",
    "from sklearn.feature_extraction.text import CountVectorizer\n",
    "import warnings\n",
    "import numpy as np\n",
    "import nltk\n",
    "from sklearn.datasets import load_files\n",
    "#nltk.download('stopwords')\n",
    "from nltk.corpus import stopwords\n",
    "from sklearn.model_selection import train_test_split\n",
    "from nltk.tokenize import word_tokenize\n",
    "import string \n",
    "from nltk.stem import WordNetLemmatizer"
   ]
  },
  {
   "cell_type": "code",
   "execution_count": 59,
   "metadata": {},
   "outputs": [],
   "source": [
    "df= pd.read_csv(\"data.csv\")"
   ]
  },
  {
   "cell_type": "code",
   "execution_count": 60,
   "metadata": {},
   "outputs": [
    {
     "name": "stdout",
     "output_type": "stream",
     "text": [
      "<class 'pandas.core.frame.DataFrame'>\n",
      "RangeIndex: 21459 entries, 0 to 21458\n",
      "Data columns (total 2 columns):\n",
      " #   Column   Non-Null Count  Dtype \n",
      "---  ------   --------------  ----- \n",
      " 0   Text     21459 non-null  object\n",
      " 1   Emotion  21459 non-null  object\n",
      "dtypes: object(2)\n",
      "memory usage: 335.4+ KB\n"
     ]
    }
   ],
   "source": [
    "df.info()"
   ]
  },
  {
   "cell_type": "code",
   "execution_count": 56,
   "metadata": {},
   "outputs": [
    {
     "data": {
      "text/plain": [
       "happy       7029\n",
       "sadness     6265\n",
       "anger       2993\n",
       "fear        2652\n",
       "love        1641\n",
       "surprise     879\n",
       "Name: Emotion, dtype: int64"
      ]
     },
     "execution_count": 56,
     "metadata": {},
     "output_type": "execute_result"
    }
   ],
   "source": [
    "df['Emotion'].value_counts()"
   ]
  },
  {
   "cell_type": "code",
   "execution_count": 5,
   "metadata": {},
   "outputs": [],
   "source": [
    "Tweet = []\n",
    "Labels = []"
   ]
  },
  {
   "cell_type": "code",
   "execution_count": 6,
   "metadata": {},
   "outputs": [
    {
     "data": {
      "text/plain": [
       "array([4, 0, 3, 5, 1, 2])"
      ]
     },
     "execution_count": 6,
     "metadata": {},
     "output_type": "execute_result"
    }
   ],
   "source": [
    "# Import label encoder\n",
    "from sklearn import preprocessing\n",
    "\n",
    "# label_encoder object knows how to understand word labels.\n",
    "label_encoder = preprocessing.LabelEncoder()\n",
    "\n",
    "# Encode labels in column 'species'.\n",
    "df['Emotion']= label_encoder.fit_transform(df['Emotion'])\n",
    "\n",
    "df['Emotion'].unique()\n"
   ]
  },
  {
   "cell_type": "code",
   "execution_count": 7,
   "metadata": {},
   "outputs": [],
   "source": [
    "for row in df[\"Text\"]:\n",
    "    #tokenize words\n",
    "    words = word_tokenize(row)\n",
    "    #remove punctuations\n",
    "    clean_words = [word.lower() for word in words if word not in set(string.punctuation)]\n",
    "    #remove stop words\n",
    "    english_stops = set(stopwords.words('english'))\n",
    "    characters_to_remove = [\"''\",'``',\"rt\",\"https\",\"’\",\"“\",\"”\",\"\\u200b\",\"--\",\"n't\",\"'s\",\"...\",\"//t.c\" ]\n",
    "    clean_words = [word for word in clean_words if word not in english_stops]\n",
    "    clean_words = [word for word in clean_words if word not in set(characters_to_remove)]\n",
    "    #Lematise words\n",
    "    wordnet_lemmatizer = WordNetLemmatizer()\n",
    "    lemma_list = [wordnet_lemmatizer.lemmatize(word) for word in clean_words]\n",
    "    Tweet.append(lemma_list)"
   ]
  },
  {
   "cell_type": "code",
   "execution_count": 8,
   "metadata": {},
   "outputs": [],
   "source": [
    "df['message']=df['Text']"
   ]
  },
  {
   "cell_type": "code",
   "execution_count": 49,
   "metadata": {},
   "outputs": [],
   "source": [
    "X = df['message']\n",
    "y = df['Emotion']\n",
    "\n"
   ]
  },
  {
   "cell_type": "code",
   "execution_count": 50,
   "metadata": {},
   "outputs": [],
   "source": [
    "# Extract Feature With CountVectorizer\n",
    "cv = CountVectorizer()\n",
    "X = cv.fit_transform(X) # Fit the Data\n"
   ]
  },
  {
   "cell_type": "code",
   "execution_count": 51,
   "metadata": {},
   "outputs": [],
   "source": [
    "X_train, X_test, y_train, y_test = train_test_split(X, y, test_size=0.33, random_state=42)"
   ]
  },
  {
   "cell_type": "code",
   "execution_count": 52,
   "metadata": {},
   "outputs": [],
   "source": [
    "from sklearn.metrics import classification_report,accuracy_score,confusion_matrix,precision_score,recall_score,f1_score"
   ]
  },
  {
   "cell_type": "markdown",
   "metadata": {},
   "source": [
    "# Random Forest"
   ]
  },
  {
   "cell_type": "code",
   "execution_count": 53,
   "metadata": {},
   "outputs": [
    {
     "name": "stdout",
     "output_type": "stream",
     "text": [
      "*Accuracy score for  RF:  100.0 \n",
      "\n",
      "*Confusion Matrix for RF: \n",
      "[[268   0   0   0   0   0]\n",
      " [  0 236   0   0   0   0]\n",
      " [  0   0 702   0   0   0]\n",
      " [  0   0   0 173   0   0]\n",
      " [  0   0   0   0 544   0]\n",
      " [  0   0   0   0   0  77]]\n",
      "*Classification Report for  RF: \n",
      "              precision    recall  f1-score   support\n",
      "\n",
      "           0       1.00      1.00      1.00       268\n",
      "           1       1.00      1.00      1.00       236\n",
      "           2       1.00      1.00      1.00       702\n",
      "           3       1.00      1.00      1.00       173\n",
      "           4       1.00      1.00      1.00       544\n",
      "           5       1.00      1.00      1.00        77\n",
      "\n",
      "    accuracy                           1.00      2000\n",
      "   macro avg       1.00      1.00      1.00      2000\n",
      "weighted avg       1.00      1.00      1.00      2000\n",
      "\n"
     ]
    }
   ],
   "source": [
    "from sklearn.ensemble import RandomForestClassifier\n",
    "NB = RandomForestClassifier()\n",
    "NB.fit(X_train,y_train)\n",
    "predictions = NB.predict(X_test)\n",
    "val1 = (accuracy_score(y_test, predictions)*100)\n",
    "print(\"*Accuracy score for  RF: \", val1, \"\\n\")\n",
    "print(\"*Confusion Matrix for RF: \")\n",
    "print(confusion_matrix(y_test, predictions))\n",
    "print(\"*Classification Report for  RF: \")\n",
    "print(classification_report(y_test, predictions))"
   ]
  },
  {
   "cell_type": "code",
   "execution_count": 14,
   "metadata": {},
   "outputs": [],
   "source": [
    "rf_prec = precision_score(y_test, predictions,average='weighted')\n",
    "rf_rec = recall_score(y_test, predictions,average='weighted')\n",
    "rf_f1 = f1_score(y_test, predictions,average='weighted')"
   ]
  },
  {
   "cell_type": "markdown",
   "metadata": {},
   "source": [
    "# SVM"
   ]
  },
  {
   "cell_type": "code",
   "execution_count": 15,
   "metadata": {},
   "outputs": [
    {
     "name": "stdout",
     "output_type": "stream",
     "text": [
      "*Accuracy score for  SVC:  43.333333333333336 \n",
      "\n",
      "*Confusion Matrix for SVC: \n",
      "[[  1   0  56   0  21   0]\n",
      " [  0   2  55   0  24   0]\n",
      " [  0   0 203   0  38   0]\n",
      " [  0   0  45   0  14   0]\n",
      " [  0   0 101   0  80   0]\n",
      " [  0   0  14   0   6   0]]\n",
      "*Classification Report for  SVC: \n",
      "              precision    recall  f1-score   support\n",
      "\n",
      "           0       1.00      0.01      0.03        78\n",
      "           1       1.00      0.02      0.05        81\n",
      "           2       0.43      0.84      0.57       241\n",
      "           3       0.00      0.00      0.00        59\n",
      "           4       0.44      0.44      0.44       181\n",
      "           5       0.00      0.00      0.00        20\n",
      "\n",
      "    accuracy                           0.43       660\n",
      "   macro avg       0.48      0.22      0.18       660\n",
      "weighted avg       0.52      0.43      0.34       660\n",
      "\n"
     ]
    }
   ],
   "source": [
    "from sklearn.svm import SVC\n",
    "NB = SVC()\n",
    "NB.fit(X_train, y_train)\n",
    "predictions = NB.predict(X_test)\n",
    "val2 = (accuracy_score(y_test, predictions)*100)\n",
    "print(\"*Accuracy score for  SVC: \", val2, \"\\n\")\n",
    "print(\"*Confusion Matrix for SVC: \")\n",
    "print(confusion_matrix(y_test, predictions))\n",
    "print(\"*Classification Report for  SVC: \")\n",
    "print(classification_report(y_test, predictions))"
   ]
  },
  {
   "cell_type": "code",
   "execution_count": 16,
   "metadata": {},
   "outputs": [],
   "source": [
    "svc_prec = precision_score(y_test, predictions,average='weighted')\n",
    "svc_rec = recall_score(y_test, predictions,average='weighted')\n",
    "svc_f1 = f1_score(y_test, predictions,average='weighted')"
   ]
  },
  {
   "cell_type": "markdown",
   "metadata": {},
   "source": [
    "# KNN"
   ]
  },
  {
   "cell_type": "code",
   "execution_count": 17,
   "metadata": {},
   "outputs": [
    {
     "name": "stdout",
     "output_type": "stream",
     "text": [
      "*Accuracy score for  KNN:  31.666666666666664 \n",
      "\n",
      "*Confusion Matrix for KNN: \n",
      "[[ 20   4  40   2  12   0]\n",
      " [ 20   7  33   2  19   0]\n",
      " [ 53  11 125   3  49   0]\n",
      " [  9   5  27   4  14   0]\n",
      " [ 35   4  88   1  53   0]\n",
      " [  2   3   9   0   6   0]]\n",
      "*Classification Report for  KNN: \n",
      "              precision    recall  f1-score   support\n",
      "\n",
      "           0       0.14      0.26      0.18        78\n",
      "           1       0.21      0.09      0.12        81\n",
      "           2       0.39      0.52      0.44       241\n",
      "           3       0.33      0.07      0.11        59\n",
      "           4       0.35      0.29      0.32       181\n",
      "           5       0.00      0.00      0.00        20\n",
      "\n",
      "    accuracy                           0.32       660\n",
      "   macro avg       0.24      0.20      0.20       660\n",
      "weighted avg       0.31      0.32      0.30       660\n",
      "\n"
     ]
    }
   ],
   "source": [
    "from sklearn.neighbors import KNeighborsClassifier\n",
    "NB = KNeighborsClassifier()\n",
    "NB.fit(X_train, y_train)\n",
    "predictions = NB.predict(X_test)\n",
    "val3 = (accuracy_score(y_test, predictions)*100)\n",
    "print(\"*Accuracy score for  KNN: \", val3, \"\\n\")\n",
    "print(\"*Confusion Matrix for KNN: \")\n",
    "print(confusion_matrix(y_test, predictions))\n",
    "print(\"*Classification Report for  KNN: \")\n",
    "print(classification_report(y_test, predictions))"
   ]
  },
  {
   "cell_type": "code",
   "execution_count": 18,
   "metadata": {},
   "outputs": [],
   "source": [
    "knn_prec = precision_score(y_test, predictions,average='weighted')\n",
    "knn_rec = recall_score(y_test, predictions,average='weighted')\n",
    "knn_f1 = f1_score(y_test, predictions,average='weighted')"
   ]
  },
  {
   "cell_type": "markdown",
   "metadata": {},
   "source": [
    "# XGBoost"
   ]
  },
  {
   "cell_type": "code",
   "execution_count": 19,
   "metadata": {},
   "outputs": [
    {
     "name": "stdout",
     "output_type": "stream",
     "text": [
      "*Accuracy score for  XGB:  71.06060606060606 \n",
      "\n",
      "*Confusion Matrix for XGB: \n",
      "[[ 53   0  14   1  10   0]\n",
      " [  2  44  27   1   6   1]\n",
      " [  2   3 202   8  26   0]\n",
      " [  0   0  22  31   4   2]\n",
      " [  5   2  43   1 129   1]\n",
      " [  0   1   8   0   1  10]]\n",
      "*Classification Report for  XGB: \n",
      "              precision    recall  f1-score   support\n",
      "\n",
      "           0       0.85      0.68      0.76        78\n",
      "           1       0.88      0.54      0.67        81\n",
      "           2       0.64      0.84      0.73       241\n",
      "           3       0.74      0.53      0.61        59\n",
      "           4       0.73      0.71      0.72       181\n",
      "           5       0.71      0.50      0.59        20\n",
      "\n",
      "    accuracy                           0.71       660\n",
      "   macro avg       0.76      0.63      0.68       660\n",
      "weighted avg       0.73      0.71      0.71       660\n",
      "\n"
     ]
    }
   ],
   "source": [
    "from xgboost import XGBClassifier\n",
    "NB = XGBClassifier()\n",
    "NB.fit(X_train, y_train)\n",
    "predictions = NB.predict(X_test)\n",
    "val4 = (accuracy_score(y_test, predictions)*100)\n",
    "print(\"*Accuracy score for  XGB: \", val4, \"\\n\")\n",
    "print(\"*Confusion Matrix for XGB: \")\n",
    "print(confusion_matrix(y_test, predictions))\n",
    "print(\"*Classification Report for  XGB: \")\n",
    "print(classification_report(y_test, predictions))"
   ]
  },
  {
   "cell_type": "code",
   "execution_count": 20,
   "metadata": {},
   "outputs": [],
   "source": [
    "xgb_prec = precision_score(y_test, predictions,average='weighted')\n",
    "xgb_rec = recall_score(y_test, predictions,average='weighted')\n",
    "xgb_f1 = f1_score(y_test, predictions,average='weighted')"
   ]
  },
  {
   "cell_type": "markdown",
   "metadata": {},
   "source": [
    "# RF + DT"
   ]
  },
  {
   "cell_type": "code",
   "execution_count": 21,
   "metadata": {},
   "outputs": [
    {
     "name": "stdout",
     "output_type": "stream",
     "text": [
      "*Accuracy score for Voting Classifier:  54.090909090909086 \n",
      "\n",
      "*Confusion Matrix for Voting CLassifier: \n",
      "[[ 38   1  27   2  10   0]\n",
      " [  4  42  29   1   5   0]\n",
      " [  9   7 199   5  21   0]\n",
      " [  1   0  35  17   6   0]\n",
      " [  8   6 103   5  58   1]\n",
      " [  0   5  11   0   1   3]]\n",
      "*Classification Report for Voting Classifier: \n",
      "              precision    recall  f1-score   support\n",
      "\n",
      "           0       0.63      0.49      0.55        78\n",
      "           1       0.69      0.52      0.59        81\n",
      "           2       0.49      0.83      0.62       241\n",
      "           3       0.57      0.29      0.38        59\n",
      "           4       0.57      0.32      0.41       181\n",
      "           5       0.75      0.15      0.25        20\n",
      "\n",
      "    accuracy                           0.54       660\n",
      "   macro avg       0.62      0.43      0.47       660\n",
      "weighted avg       0.57      0.54      0.52       660\n",
      "\n"
     ]
    }
   ],
   "source": [
    "from sklearn.ensemble import VotingClassifier\n",
    "from sklearn.linear_model import LogisticRegression\n",
    "from sklearn.ensemble import RandomForestClassifier\n",
    "from sklearn.tree import DecisionTreeClassifier\n",
    "estimator = []\n",
    "estimator.append(('RFC', RandomForestClassifier()))\n",
    "estimator.append(('DTC', DecisionTreeClassifier()))\n",
    "vot_hard = VotingClassifier(estimators = estimator, voting ='hard')\n",
    "vot_hard.fit(X_train, y_train)\n",
    "predictions = vot_hard.predict(X_test)\n",
    "val5 = (accuracy_score(y_test, predictions)*100)\n",
    "print(\"*Accuracy score for Voting Classifier: \", val5, \"\\n\")\n",
    "print(\"*Confusion Matrix for Voting CLassifier: \")\n",
    "print(confusion_matrix(y_test, predictions))\n",
    "print(\"*Classification Report for Voting Classifier: \")\n",
    "print(classification_report(y_test, predictions))"
   ]
  },
  {
   "cell_type": "code",
   "execution_count": 22,
   "metadata": {},
   "outputs": [],
   "source": [
    "vot1_prec = precision_score(y_test, predictions,average='weighted')\n",
    "vot1_rec = recall_score(y_test, predictions,average='weighted')\n",
    "vot1_f1 = f1_score(y_test, predictions,average='weighted')"
   ]
  },
  {
   "cell_type": "markdown",
   "metadata": {},
   "source": [
    "# XGB + DT"
   ]
  },
  {
   "cell_type": "code",
   "execution_count": 23,
   "metadata": {},
   "outputs": [
    {
     "name": "stdout",
     "output_type": "stream",
     "text": [
      "*Accuracy score for Voting Classifier:  61.36363636363637 \n",
      "\n",
      "*Confusion Matrix for Voting CLassifier: \n",
      "[[ 57   0  16   1   4   0]\n",
      " [  4  52  20   2   2   1]\n",
      " [  9  12 197   7  16   0]\n",
      " [  1   0  24  29   4   1]\n",
      " [ 10  13  86   6  65   1]\n",
      " [  0   5  10   0   0   5]]\n",
      "*Classification Report for Voting Classifier: \n",
      "              precision    recall  f1-score   support\n",
      "\n",
      "           0       0.70      0.73      0.72        78\n",
      "           1       0.63      0.64      0.64        81\n",
      "           2       0.56      0.82      0.66       241\n",
      "           3       0.64      0.49      0.56        59\n",
      "           4       0.71      0.36      0.48       181\n",
      "           5       0.62      0.25      0.36        20\n",
      "\n",
      "    accuracy                           0.61       660\n",
      "   macro avg       0.65      0.55      0.57       660\n",
      "weighted avg       0.64      0.61      0.60       660\n",
      "\n"
     ]
    }
   ],
   "source": [
    "estimator = []\n",
    "estimator.append(('XGB', XGBClassifier()))\n",
    "estimator.append(('DTC', DecisionTreeClassifier()))\n",
    "vot_hard = VotingClassifier(estimators = estimator, voting ='hard')\n",
    "vot_hard.fit(X_train, y_train)\n",
    "predictions = vot_hard.predict(X_test)\n",
    "val6 = (accuracy_score(y_test, predictions)*100)\n",
    "print(\"*Accuracy score for Voting Classifier: \", val6, \"\\n\")\n",
    "print(\"*Confusion Matrix for Voting CLassifier: \")\n",
    "print(confusion_matrix(y_test, predictions))\n",
    "print(\"*Classification Report for Voting Classifier: \")\n",
    "print(classification_report(y_test, predictions))"
   ]
  },
  {
   "cell_type": "code",
   "execution_count": 24,
   "metadata": {},
   "outputs": [],
   "source": [
    "vot2_prec = precision_score(y_test, predictions,average='weighted')\n",
    "vot2_rec = recall_score(y_test, predictions,average='weighted')\n",
    "vot2_f1 = f1_score(y_test, predictions,average='weighted')"
   ]
  },
  {
   "cell_type": "markdown",
   "metadata": {},
   "source": [
    "# SVM + DT"
   ]
  },
  {
   "cell_type": "code",
   "execution_count": 25,
   "metadata": {},
   "outputs": [
    {
     "name": "stdout",
     "output_type": "stream",
     "text": [
      "*Accuracy score for Voting Classifier:  47.72727272727273 \n",
      "\n",
      "*Confusion Matrix for Voting CLassifier: \n",
      "[[ 32   2  35   1   8   0]\n",
      " [  4  37  30   1   9   0]\n",
      " [ 11  10 196   5  19   0]\n",
      " [  1   2  44   6   6   0]\n",
      " [  8   6 117   6  44   0]\n",
      " [  0   6  10   0   4   0]]\n",
      "*Classification Report for Voting Classifier: \n",
      "              precision    recall  f1-score   support\n",
      "\n",
      "           0       0.57      0.41      0.48        78\n",
      "           1       0.59      0.46      0.51        81\n",
      "           2       0.45      0.81      0.58       241\n",
      "           3       0.32      0.10      0.15        59\n",
      "           4       0.49      0.24      0.32       181\n",
      "           5       0.00      0.00      0.00        20\n",
      "\n",
      "    accuracy                           0.48       660\n",
      "   macro avg       0.40      0.34      0.34       660\n",
      "weighted avg       0.47      0.48      0.44       660\n",
      "\n"
     ]
    }
   ],
   "source": [
    "estimator = []\n",
    "estimator.append(('SVC', SVC()))\n",
    "estimator.append(('DTC', DecisionTreeClassifier()))\n",
    "vot_hard = VotingClassifier(estimators = estimator, voting ='hard')\n",
    "vot_hard.fit(X_train, y_train)\n",
    "predictions = vot_hard.predict(X_test)\n",
    "val7 = (accuracy_score(y_test, predictions)*100)\n",
    "print(\"*Accuracy score for Voting Classifier: \", val7, \"\\n\")\n",
    "print(\"*Confusion Matrix for Voting CLassifier: \")\n",
    "print(confusion_matrix(y_test, predictions))\n",
    "print(\"*Classification Report for Voting Classifier: \")\n",
    "print(classification_report(y_test, predictions))"
   ]
  },
  {
   "cell_type": "code",
   "execution_count": 26,
   "metadata": {},
   "outputs": [],
   "source": [
    "vot3_prec = precision_score(y_test, predictions,average='weighted')\n",
    "vot3_rec = recall_score(y_test, predictions,average='weighted')\n",
    "vot3_f1 = f1_score(y_test, predictions,average='weighted')"
   ]
  },
  {
   "cell_type": "markdown",
   "metadata": {},
   "source": [
    "# RF + XGB"
   ]
  },
  {
   "cell_type": "code",
   "execution_count": 27,
   "metadata": {},
   "outputs": [
    {
     "name": "stdout",
     "output_type": "stream",
     "text": [
      "*Accuracy score for Voting Classifier:  64.39393939393939 \n",
      "\n",
      "*Confusion Matrix for Voting CLassifier: \n",
      "[[ 54   0  16   1   7   0]\n",
      " [  3  45  27   0   5   1]\n",
      " [  3   3 214   3  18   0]\n",
      " [  0   1  36  21   1   0]\n",
      " [  5   2  87   0  87   0]\n",
      " [  0   1  15   0   0   4]]\n",
      "*Classification Report for Voting Classifier: \n",
      "              precision    recall  f1-score   support\n",
      "\n",
      "           0       0.83      0.69      0.76        78\n",
      "           1       0.87      0.56      0.68        81\n",
      "           2       0.54      0.89      0.67       241\n",
      "           3       0.84      0.36      0.50        59\n",
      "           4       0.74      0.48      0.58       181\n",
      "           5       0.80      0.20      0.32        20\n",
      "\n",
      "    accuracy                           0.64       660\n",
      "   macro avg       0.77      0.53      0.58       660\n",
      "weighted avg       0.70      0.64      0.63       660\n",
      "\n"
     ]
    }
   ],
   "source": [
    "estimator = []\n",
    "estimator.append(('RF', RandomForestClassifier()))\n",
    "estimator.append(('XGB', XGBClassifier()))\n",
    "vot_hard = VotingClassifier(estimators = estimator, voting ='hard')\n",
    "vot_hard.fit(X_train, y_train)\n",
    "predictions = vot_hard.predict(X_test)\n",
    "val8 = (accuracy_score(y_test, predictions)*100)\n",
    "print(\"*Accuracy score for Voting Classifier: \", val8, \"\\n\")\n",
    "print(\"*Confusion Matrix for Voting CLassifier: \")\n",
    "print(confusion_matrix(y_test, predictions))\n",
    "print(\"*Classification Report for Voting Classifier: \")\n",
    "print(classification_report(y_test, predictions))"
   ]
  },
  {
   "cell_type": "code",
   "execution_count": 28,
   "metadata": {},
   "outputs": [],
   "source": [
    "vot4_prec = precision_score(y_test, predictions,average='weighted')\n",
    "vot4_rec = recall_score(y_test, predictions,average='weighted')\n",
    "vot4_f1 = f1_score(y_test, predictions,average='weighted')"
   ]
  },
  {
   "cell_type": "markdown",
   "metadata": {},
   "source": [
    "# RF + SVM"
   ]
  },
  {
   "cell_type": "code",
   "execution_count": 29,
   "metadata": {},
   "outputs": [
    {
     "name": "stdout",
     "output_type": "stream",
     "text": [
      "*Accuracy score for Voting Classifier:  53.48484848484848 \n",
      "\n",
      "*Confusion Matrix for Voting CLassifier: \n",
      "[[ 35   0  34   1   8   0]\n",
      " [  1  30  44   0   6   0]\n",
      " [  0   0 221   0  20   0]\n",
      " [  0   0  52   3   4   0]\n",
      " [  1   1 115   0  64   0]\n",
      " [  0   0  17   0   3   0]]\n",
      "*Classification Report for Voting Classifier: \n",
      "              precision    recall  f1-score   support\n",
      "\n",
      "           0       0.95      0.45      0.61        78\n",
      "           1       0.97      0.37      0.54        81\n",
      "           2       0.46      0.92      0.61       241\n",
      "           3       0.75      0.05      0.10        59\n",
      "           4       0.61      0.35      0.45       181\n",
      "           5       0.00      0.00      0.00        20\n",
      "\n",
      "    accuracy                           0.53       660\n",
      "   macro avg       0.62      0.36      0.38       660\n",
      "weighted avg       0.63      0.53      0.49       660\n",
      "\n"
     ]
    }
   ],
   "source": [
    "estimator = []\n",
    "estimator.append(('RF', RandomForestClassifier()))\n",
    "estimator.append(('SVM', SVC()))\n",
    "vot_hard = VotingClassifier(estimators = estimator, voting ='hard')\n",
    "vot_hard.fit(X_train, y_train)\n",
    "predictions = vot_hard.predict(X_test)\n",
    "val9 = (accuracy_score(y_test, predictions)*100)\n",
    "print(\"*Accuracy score for Voting Classifier: \", val9, \"\\n\")\n",
    "print(\"*Confusion Matrix for Voting CLassifier: \")\n",
    "print(confusion_matrix(y_test, predictions))\n",
    "print(\"*Classification Report for Voting Classifier: \")\n",
    "print(classification_report(y_test, predictions))"
   ]
  },
  {
   "cell_type": "code",
   "execution_count": 30,
   "metadata": {},
   "outputs": [],
   "source": [
    "vot5_prec = precision_score(y_test, predictions,average='weighted')\n",
    "vot5_rec = recall_score(y_test, predictions,average='weighted')\n",
    "vot5_f1 = f1_score(y_test, predictions,average='weighted')"
   ]
  },
  {
   "cell_type": "markdown",
   "metadata": {},
   "source": [
    "# XGB + SVM"
   ]
  },
  {
   "cell_type": "code",
   "execution_count": 31,
   "metadata": {},
   "outputs": [
    {
     "name": "stdout",
     "output_type": "stream",
     "text": [
      "*Accuracy score for Voting Classifier:  59.09090909090909 \n",
      "\n",
      "*Confusion Matrix for Voting CLassifier: \n",
      "[[ 53   0  18   1   6   0]\n",
      " [  2  44  31   0   4   0]\n",
      " [  2   3 219   2  15   0]\n",
      " [  0   0  50   8   1   0]\n",
      " [  5   2 108   0  66   0]\n",
      " [  0   1  15   0   4   0]]\n",
      "*Classification Report for Voting Classifier: \n",
      "              precision    recall  f1-score   support\n",
      "\n",
      "           0       0.85      0.68      0.76        78\n",
      "           1       0.88      0.54      0.67        81\n",
      "           2       0.50      0.91      0.64       241\n",
      "           3       0.73      0.14      0.23        59\n",
      "           4       0.69      0.36      0.48       181\n",
      "           5       0.00      0.00      0.00        20\n",
      "\n",
      "    accuracy                           0.59       660\n",
      "   macro avg       0.61      0.44      0.46       660\n",
      "weighted avg       0.64      0.59      0.56       660\n",
      "\n"
     ]
    }
   ],
   "source": [
    "estimator = []\n",
    "estimator.append(('XGB', XGBClassifier()))\n",
    "estimator.append(('SVM', SVC()))\n",
    "vot_hard = VotingClassifier(estimators = estimator, voting ='hard')\n",
    "vot_hard.fit(X_train, y_train)\n",
    "predictions = vot_hard.predict(X_test)\n",
    "val10 = (accuracy_score(y_test, predictions)*100)\n",
    "print(\"*Accuracy score for Voting Classifier: \", val10, \"\\n\")\n",
    "print(\"*Confusion Matrix for Voting CLassifier: \")\n",
    "print(confusion_matrix(y_test, predictions))\n",
    "print(\"*Classification Report for Voting Classifier: \")\n",
    "print(classification_report(y_test, predictions))"
   ]
  },
  {
   "cell_type": "code",
   "execution_count": 32,
   "metadata": {},
   "outputs": [],
   "source": [
    "vot6_prec = precision_score(y_test, predictions,average='weighted')\n",
    "vot6_rec = recall_score(y_test, predictions,average='weighted')\n",
    "vot6_f1 = f1_score(y_test, predictions,average='weighted')"
   ]
  },
  {
   "cell_type": "markdown",
   "metadata": {},
   "source": [
    "# SMOTE + SYSAn(GS) + RF+SVM+XGB"
   ]
  },
  {
   "cell_type": "code",
   "execution_count": 33,
   "metadata": {},
   "outputs": [],
   "source": [
    "from imblearn.over_sampling import SMOTE\n",
    "oversample = SMOTE()\n",
    "X, y = oversample.fit_resample(X, y)"
   ]
  },
  {
   "cell_type": "code",
   "execution_count": 34,
   "metadata": {},
   "outputs": [],
   "source": [
    "X_train,X_test,y_train,y_test = train_test_split(X,y , test_size =0.2,random_state=0)"
   ]
  },
  {
   "cell_type": "code",
   "execution_count": 35,
   "metadata": {},
   "outputs": [],
   "source": [
    "estimator = []\n",
    "estimator.append(('XGB', XGBClassifier()))\n",
    "estimator.append(('RF', RandomForestClassifier()))\n",
    "estimator.append(('SVM', SVC(probability=True)))\n",
    "vot_hard = VotingClassifier(estimators = estimator, voting ='soft')\n"
   ]
  },
  {
   "cell_type": "code",
   "execution_count": 38,
   "metadata": {},
   "outputs": [],
   "source": [
    "from genetic_selection import GeneticSelectionCV\n",
    "model = GeneticSelectionCV(\n",
    "    vot_hard, cv=2, verbose=0,\n",
    "    scoring=\"accuracy\", max_features=1, n_jobs=-1)"
   ]
  },
  {
   "cell_type": "code",
   "execution_count": 36,
   "metadata": {},
   "outputs": [
    {
     "name": "stdout",
     "output_type": "stream",
     "text": [
      "*Accuracy score for Voting Classifier:  85.05338078291815 \n",
      "\n",
      "*Confusion Matrix for Voting CLassifier: \n",
      "[[116   0   9   1   4   2]\n",
      " [  1 123  16   1   3   4]\n",
      " [  0   0 124   4  10   1]\n",
      " [  0   1  12 117   1   5]\n",
      " [  2   2  33   6 107   3]\n",
      " [  0   0   4   0   1 130]]\n",
      "*Classification Report for Voting Classifier: \n",
      "              precision    recall  f1-score   support\n",
      "\n",
      "           0       0.97      0.88      0.92       132\n",
      "           1       0.98      0.83      0.90       148\n",
      "           2       0.63      0.89      0.74       139\n",
      "           3       0.91      0.86      0.88       136\n",
      "           4       0.85      0.70      0.77       153\n",
      "           5       0.90      0.96      0.93       135\n",
      "\n",
      "    accuracy                           0.85       843\n",
      "   macro avg       0.87      0.85      0.86       843\n",
      "weighted avg       0.87      0.85      0.85       843\n",
      "\n"
     ]
    }
   ],
   "source": [
    "model.fit(X_train, y_train)\n",
    "predictions = model.predict(X_test)\n",
    "val11 = (accuracy_score(y_test, predictions)*100)\n",
    "print(\"*Accuracy score for Voting Classifier: \", val11, \"\\n\")\n",
    "print(\"*Confusion Matrix for Voting CLassifier: \")\n",
    "print(confusion_matrix(y_test, predictions))\n",
    "print(\"*Classification Report for Voting Classifier: \")\n",
    "print(classification_report(y_test, predictions))"
   ]
  },
  {
   "cell_type": "code",
   "execution_count": 37,
   "metadata": {},
   "outputs": [],
   "source": [
    "vot7_prec = precision_score(y_test, predictions,average='weighted')\n",
    "vot7_rec = recall_score(y_test, predictions,average='weighted')\n",
    "vot7_f1 = f1_score(y_test, predictions,average='weighted')"
   ]
  },
  {
   "cell_type": "markdown",
   "metadata": {},
   "source": [
    "# Comparison"
   ]
  },
  {
   "cell_type": "code",
   "execution_count": 38,
   "metadata": {},
   "outputs": [],
   "source": [
    "score = [val1,val2,val3,val4,val5,val6,val7,val8,val9,val10,val11]"
   ]
  },
  {
   "cell_type": "code",
   "execution_count": 39,
   "metadata": {},
   "outputs": [],
   "source": [
    "score1 = [rf_prec,svc_prec,knn_prec,xgb_prec,vot1_prec,vot2_prec,vot3_prec,vot4_prec,vot5_prec,vot6_prec,vot7_prec]"
   ]
  },
  {
   "cell_type": "code",
   "execution_count": 40,
   "metadata": {},
   "outputs": [],
   "source": [
    "score2 = [rf_rec,svc_rec,knn_rec,xgb_rec,vot1_rec,vot2_rec,vot3_rec,vot4_rec,vot5_rec,vot6_rec,vot7_rec]"
   ]
  },
  {
   "cell_type": "code",
   "execution_count": 41,
   "metadata": {},
   "outputs": [],
   "source": [
    "score3 = [rf_f1,svc_f1,knn_f1,xgb_f1,vot1_f1,vot2_f1,vot3_f1,vot4_f1,vot5_f1,vot6_f1,vot7_f1]"
   ]
  },
  {
   "cell_type": "code",
   "execution_count": 42,
   "metadata": {},
   "outputs": [
    {
     "name": "stdout",
     "output_type": "stream",
     "text": [
      "[ 0  1  2  3  4  5  6  7  8  9 10]\n",
      "[100.0, 43.333333333333336, 31.666666666666664, 71.06060606060606, 54.090909090909086, 61.36363636363637, 47.72727272727273, 64.39393939393939, 53.48484848484848, 59.09090909090909, 85.05338078291815]\n"
     ]
    }
   ],
   "source": [
    "#make variabel for save the result and to show it\n",
    "classifier = ('Random Forest','SVC','KNN','XGB','RF+DT','XGB+DT','SVM+DT','RF+XGB','RF+SVM','XGB+SVM','SMOTE-RF+SVM+DT')\n",
    "y_pos = np.arange(len(classifier))\n",
    "print(y_pos)\n",
    "print(score)"
   ]
  },
  {
   "cell_type": "markdown",
   "metadata": {},
   "source": [
    "# Accuracy"
   ]
  },
  {
   "cell_type": "code",
   "execution_count": 44,
   "metadata": {},
   "outputs": [
    {
     "data": {
      "image/png": "[encoded data removed]",
      "text/plain": [
       "<Figure size 432x288 with 1 Axes>"
      ]
     },
     "metadata": {
      "needs_background": "light"
     },
     "output_type": "display_data"
    }
   ],
   "source": [
    "import matplotlib.pyplot as plt2\n",
    "plt2.barh(y_pos, score, align='center', alpha=0.5,color='blue')\n",
    "plt2.yticks(y_pos, classifier)\n",
    "plt2.xlabel('Score')\n",
    "plt2.title('Classification Performance')\n",
    "plt2.show()"
   ]
  },
  {
   "cell_type": "markdown",
   "metadata": {},
   "source": [
    "# Precision"
   ]
  },
  {
   "cell_type": "code",
   "execution_count": 45,
   "metadata": {},
   "outputs": [
    {
     "data": {
      "image/png": "[encoded data removed]",
      "text/plain": [
       "<Figure size 432x288 with 1 Axes>"
      ]
     },
     "metadata": {
      "needs_background": "light"
     },
     "output_type": "display_data"
    }
   ],
   "source": [
    "plt2.barh(y_pos, score1, align='center', alpha=0.5,color='red')\n",
    "plt2.yticks(y_pos, classifier)\n",
    "plt2.xlabel('Score')\n",
    "plt2.title('Classification Performance')\n",
    "plt2.show()"
   ]
  },
  {
   "cell_type": "markdown",
   "metadata": {},
   "source": [
    "# Recall"
   ]
  },
  {
   "cell_type": "code",
   "execution_count": 46,
   "metadata": {},
   "outputs": [
    {
     "data": {
      "image/png": "[encoded data removed]",
      "text/plain": [
       "<Figure size 432x288 with 1 Axes>"
      ]
     },
     "metadata": {
      "needs_background": "light"
     },
     "output_type": "display_data"
    }
   ],
   "source": [
    "plt2.barh(y_pos, score2, align='center', alpha=0.5,color='orange')\n",
    "plt2.yticks(y_pos, classifier)\n",
    "plt2.xlabel('Score')\n",
    "plt2.title('Classification Performance')\n",
    "plt2.show()"
   ]
  },
  {
   "cell_type": "markdown",
   "metadata": {},
   "source": [
    "# F1 SCore"
   ]
  },
  {
   "cell_type": "code",
   "execution_count": 47,
   "metadata": {},
   "outputs": [
    {
     "data": {
      "image/png": "[encoded data removed]",
      "text/plain": [
       "<Figure size 432x288 with 1 Axes>"
      ]
     },
     "metadata": {
      "needs_background": "light"
     },
     "output_type": "display_data"
    }
   ],
   "source": [
    "plt2.barh(y_pos, score3, align='center', alpha=0.5,color='pink')\n",
    "plt2.yticks(y_pos, classifier)\n",
    "plt2.xlabel('Score')\n",
    "plt2.title('Classification Performance')\n",
    "plt2.show()"
   ]
  },
  {
   "cell_type": "code",
   "execution_count": 54,
   "metadata": {},
   "outputs": [
    {
     "data": {
      "text/plain": [
       "['model.sav']"
      ]
     },
     "execution_count": 54,
     "metadata": {},
     "output_type": "execute_result"
    }
   ],
   "source": [
    "import joblib\n",
    "filename = 'model.sav'\n",
    "joblib.dump(NB, filename)"
   ]
  },
  {
   "cell_type": "code",
   "execution_count": null,
   "metadata": {},
   "outputs": [],
   "source": []
  }
 ],
 "metadata": {
  "kernelspec": {
   "display_name": "Python 3",
   "language": "python",
   "name": "python3"
  },
  "language_info": {
   "codemirror_mode": {
    "name": "ipython",
    "version": 3
   },
   "file_extension": ".py",
   "mimetype": "text/x-python",
   "name": "python",
   "nbconvert_exporter": "python",
   "pygments_lexer": "ipython3",
   "version": "3.7.4"
  }
 },
 "nbformat": 4,
 "nbformat_minor": 2
}
